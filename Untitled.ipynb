{
 "cells": [
  {
   "cell_type": "code",
   "execution_count": 5,
   "metadata": {},
   "outputs": [
    {
     "name": "stdout",
     "output_type": "stream",
     "text": [
      "(79853, 9)\n"
     ]
    }
   ],
   "source": [
    "import pandas as pd\n",
    "from sklearn.preprocessing import MinMaxScaler\n",
    "scalar=MinMaxScaler()\n",
    "from sklearn.model_selection import train_test_split\n",
    "import tensorflow as tf\n",
    "import tensorflow \n",
    "from tensorflow import keras\n",
    "from keras.models import Sequential\n",
    "from keras.layers import Dense\n",
    "\n",
    "import numpy as np\n",
    "import pandas as pd\n",
    "import matplotlib.pyplot as plt\n",
    "%matplotlib inline\n",
    "\n",
    "\n",
    "data=pd.read_csv('train_qnU1GcL.csv')\n",
    "data2=pd.read_csv('test_LxCaReE_Px2yuWS1.csv')\n",
    "\n",
    "data=data.fillna(method='ffill')\n",
    "X=data[['perc_premium_paid_by_cash_credit','age_in_days','Count_3-6_months_late','Count_6-12_months_late','Count_more_than_12_months_late','application_underwriting_score','no_of_premiums_paid','sourcing_channel','residence_area_type']].values\n",
    "y=data['target'].values\n",
    "print(X.shape)\n",
    "data2=data2.fillna(method='ffill')\n",
    "X1=data2[['perc_premium_paid_by_cash_credit','age_in_days','Count_3-6_months_late','Count_6-12_months_late','Count_more_than_12_months_late','application_underwriting_score','no_of_premiums_paid','sourcing_channel','residence_area_type']].values\n",
    "\n",
    "from sklearn import preprocessing\n",
    "sou_cha = preprocessing.LabelEncoder()\n",
    "X[:,7] = sou_cha.fit_transform(X[:,7]) \n",
    "res_are = preprocessing.LabelEncoder()\n",
    "X[:,8] = res_are.fit_transform(X[:,8]) \n",
    "\n",
    "\n",
    "from sklearn import preprocessing\n",
    "sou_cha = preprocessing.LabelEncoder()\n",
    "X1[:,7] = sou_cha.fit_transform(X1[:,7]) \n",
    "res_are = preprocessing.LabelEncoder()\n",
    "X1[:,8] = res_are.fit_transform(X1[:,8]) \n",
    "\n",
    "\n",
    "from sklearn.preprocessing import StandardScaler\n",
    "scaler = StandardScaler() \n",
    "X_scale = scaler.fit_transform(X)\n",
    "from sklearn.preprocessing import StandardScaler\n",
    "scaler = StandardScaler() \n",
    "X1_scale = scaler.fit_transform(X1)\n",
    "\n",
    "from sklearn.model_selection import train_test_split\n",
    "X_train, X_val_and_test, y_train, y_val_and_test = train_test_split(X_scale,y,test_size=0.2)\n",
    "X_val, X_test, y_val, y_test = train_test_split(X_val_and_test, y_val_and_test, test_size=0.5)\n",
    "\n",
    "\n",
    "\n",
    "\n",
    "\n",
    "\n"
   ]
  },
  {
   "cell_type": "code",
   "execution_count": 11,
   "metadata": {},
   "outputs": [
    {
     "name": "stdout",
     "output_type": "stream",
     "text": [
      "Train on 63882 samples, validate on 7985 samples\n",
      "Epoch 1/1\n",
      "63882/63882 [==============================] - 9s 143us/step - loss: 0.2056 - accuracy: 0.9374 - val_loss: 0.1906 - val_accuracy: 0.9321\n",
      "63882/63882 [==============================] - 5s 82us/step\n",
      "Accuracy on training set:0.939\n",
      "7985/7985 [==============================] - 1s 79us/step\n",
      "Accuracy on Validation set:0.932\n",
      "7986/7986 [==============================] - 1s 73us/step\n",
      "Accuracy on test set:0.938\n"
     ]
    }
   ],
   "source": [
    "model = Sequential([\n",
    "    Dense(250, activation='relu', input_shape=(9,)),\n",
    "    Dense(100, activation='relu'),\n",
    "    Dense(10, activation='relu'),\n",
    "    Dense(1, activation='sigmoid')])\n",
    "model.compile(optimizer='sgd',\n",
    "              loss='binary_crossentropy',\n",
    "              metrics=['accuracy'])\n",
    "hist = model.fit(X_train, y_train,\n",
    "          batch_size=32, epochs=20,\n",
    "          validation_data=(X_val, y_val))\n",
    "\n",
    "print(\"Accuracy on training set:{:.3f}\".format(model.evaluate(X_train,y_train)[1]))\n",
    "print(\"Accuracy on Validation set:{:.3f}\".format(model.evaluate(X_val,y_val)[1]))\n",
    "print(\"Accuracy on test set:{:.3f}\".format(model.evaluate(X_test,y_test)[1]))\n",
    "\n",
    "\n"
   ]
  },
  {
   "cell_type": "code",
   "execution_count": 8,
   "metadata": {},
   "outputs": [
    {
     "name": "stdout",
     "output_type": "stream",
     "text": [
      "[[0.72394145]\n",
      " [0.9792604 ]\n",
      " [0.95667744]\n",
      " ...\n",
      " [0.98545593]\n",
      " [0.9340421 ]\n",
      " [0.97741234]]\n",
      "0.1033632519297841\n"
     ]
    }
   ],
   "source": [
    "predt=model.predict(X_test)\n",
    "print(predt)\n",
    "from sklearn import metrics as m\n",
    "print(m.mean_absolute_error(y_test,predt))\n",
    "\n",
    "\n",
    "import pandas as pd\n",
    "data2=pd.read_csv('test_LxCaReE_Px2yuWS1.csv')\n",
    "\n",
    "sample_submission=pd.DataFrame()\n",
    "sample_submission['id']=data2['id']\n",
    "\n",
    "\n",
    "\n",
    "sample_submission['target']=model.predict(X1_scale)\n",
    "sample_submission['target']=sample_submission['target'].astype(int)\n",
    "sample_submission.to_csv('sample_submission.csv', header=True, index=False)\n"
   ]
  },
  {
   "cell_type": "code",
   "execution_count": null,
   "metadata": {},
   "outputs": [],
   "source": []
  }
 ],
 "metadata": {
  "kernelspec": {
   "display_name": "Python 3",
   "language": "python",
   "name": "python3"
  },
  "language_info": {
   "codemirror_mode": {
    "name": "ipython",
    "version": 3
   },
   "file_extension": ".py",
   "mimetype": "text/x-python",
   "name": "python",
   "nbconvert_exporter": "python",
   "pygments_lexer": "ipython3",
   "version": "3.7.4"
  }
 },
 "nbformat": 4,
 "nbformat_minor": 2
}
